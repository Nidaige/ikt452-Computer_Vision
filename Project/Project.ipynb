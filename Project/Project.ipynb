{
 "cells": [
  {
   "cell_type": "markdown",
   "id": "5e09cd77-512b-405a-9358-708e08fbb04c",
   "metadata": {},
   "source": [
    "# Project"
   ]
  },
  {
   "cell_type": "markdown",
   "id": "8ffdca0c-3b38-4402-bf67-729586f4803d",
   "metadata": {
    "tags": []
   },
   "source": [
    "## Project Description\n",
    "- Imitate the visual style of \"cel shading\" on images of people or things\n",
    "    - Use Segmentation to detect objects\n",
    "    - Use Edge Detection to find lines within said objects\n",
    "    - Draw over the detected lines with thick, black lines to outline objects\n",
    "    - Blur objects with a small kernel to artificially smooth and lower resolution of the objects\n",
    "    - Further segment objects based on detected lines and contours to get object segments\n",
    "    - Normalize light within segments by averaging the V-value after converting to HSV"
   ]
  },
  {
   "cell_type": "markdown",
   "id": "53f5b57a-9ff1-4367-bc75-1e6608b19b34",
   "metadata": {
    "tags": []
   },
   "source": [
    "## The Image"
   ]
  },
  {
   "cell_type": "markdown",
   "id": "869233bd-6b50-4815-b4fe-a3df27379492",
   "metadata": {
    "tags": []
   },
   "source": [
    "Random dude in a field"
   ]
  },
  {
   "cell_type": "code",
   "execution_count": 2,
   "id": "f4b82897-3155-4dd0-834e-33c8bb1809cb",
   "metadata": {
    "tags": []
   },
   "outputs": [
    {
     "ename": "ModuleNotFoundError",
     "evalue": "No module named 'cv2'",
     "output_type": "error",
     "traceback": [
      "\u001b[1;31m---------------------------------------------------------------------------\u001b[0m",
      "\u001b[1;31mModuleNotFoundError\u001b[0m                       Traceback (most recent call last)",
      "Input \u001b[1;32mIn [2]\u001b[0m, in \u001b[0;36m<cell line: 8>\u001b[1;34m()\u001b[0m\n\u001b[0;32m      6\u001b[0m \u001b[38;5;28;01mfrom\u001b[39;00m \u001b[38;5;21;01msegmentation\u001b[39;00m \u001b[38;5;28;01mimport\u001b[39;00m get_mask, blur_object_pixels\n\u001b[0;32m      7\u001b[0m \u001b[38;5;28;01mfrom\u001b[39;00m \u001b[38;5;21;01mnormalize_HSV\u001b[39;00m \u001b[38;5;28;01mimport\u001b[39;00m normalize_brightness, RGB_to_HSV, HSV_to_RGB, apply_mask\n\u001b[1;32m----> 8\u001b[0m \u001b[38;5;28;01mimport\u001b[39;00m \u001b[38;5;21;01mcv2\u001b[39;00m\n\u001b[0;32m     10\u001b[0m filename \u001b[38;5;241m=\u001b[39m \u001b[38;5;124m'\u001b[39m\u001b[38;5;124mdata/image2.jpg\u001b[39m\u001b[38;5;124m'\u001b[39m\n\u001b[0;32m     11\u001b[0m input_image \u001b[38;5;241m=\u001b[39m Image\u001b[38;5;241m.\u001b[39mopen(filename)\n",
      "\u001b[1;31mModuleNotFoundError\u001b[0m: No module named 'cv2'"
     ]
    }
   ],
   "source": [
    "import torch\n",
    "from torchvision import transforms\n",
    "from PIL import Image, ImageChops\n",
    "import numpy as np\n",
    "import math\n",
    "from segmentation import get_mask, blur_object_pixels\n",
    "from normalize_HSV import normalize_brightness, RGB_to_HSV, HSV_to_RGB, apply_mask\n",
    "import cv2\n",
    "\n",
    "filename = 'data/image2.jpg'\n",
    "input_image = Image.open(filename)\n",
    "input_image = input_image.convert(\"RGB\")\n",
    "display(input_image)"
   ]
  },
  {
   "cell_type": "markdown",
   "id": "c810614e-6c40-434c-9ec7-3e007b3e88ab",
   "metadata": {
    "tags": []
   },
   "source": [
    "## Smoothing objects with small kernel"
   ]
  },
  {
   "cell_type": "markdown",
   "id": "ffab9cab-39b8-4c83-8615-b2c687f41608",
   "metadata": {
    "tags": []
   },
   "source": [
    "#### Borrowing code from Practical Six for smoothing objects"
   ]
  },
  {
   "cell_type": "code",
   "execution_count": null,
   "id": "a15de2da-edd6-446d-b7a6-43557c6329cd",
   "metadata": {
    "tags": []
   },
   "outputs": [],
   "source": [
    "model = torch.hub.load('pytorch/vision:v0.10.0', 'deeplabv3_resnet50', weights=True)\n",
    "input_image_blurred = blur_object_pixels(model, input_image, ['person'], sigma=5, show_object_list=False, concat=False, scale=1)"
   ]
  },
  {
   "cell_type": "markdown",
   "id": "1727ee24-501e-4e32-8ef5-9c50e7bf2a13",
   "metadata": {
    "tags": []
   },
   "source": [
    "## Segmentation and Object Detection"
   ]
  },
  {
   "cell_type": "markdown",
   "id": "f083854b-a381-4027-b375-17e9f6bd7248",
   "metadata": {
    "tags": []
   },
   "source": [
    "\n"
   ]
  },
  {
   "cell_type": "code",
   "execution_count": null,
   "id": "39f9e337-ba8c-45d4-bb6b-3ff853942021",
   "metadata": {},
   "outputs": [],
   "source": [
    "person_mask = get_mask(model, input_image_blurred, ['person'], sigma=5, show_object_list=False, concat=True, scale=1)\n",
    "display(person_mask)\n",
    "\n"
   ]
  },
  {
   "cell_type": "markdown",
   "id": "a21a19a6-c571-4d81-aa03-0971e8d3944e",
   "metadata": {
    "tags": []
   },
   "source": [
    "## Normalize lighting via HSV-values"
   ]
  },
  {
   "cell_type": "code",
   "execution_count": null,
   "id": "c527b3f8-0689-4bc1-8c32-83c8cd45a191",
   "metadata": {
    "tags": []
   },
   "outputs": [],
   "source": [
    "ms = normalize_brightness(input_image_blurred, 6, person_mask)\n",
    "img = ms[\"all\"]\n",
    "display(img)\n",
    "masked = apply_mask(input_image, img)\n",
    "display(masked)"
   ]
  },
  {
   "cell_type": "markdown",
   "id": "5dea1418-4014-42eb-b402-c703ec4eb1de",
   "metadata": {
    "tags": []
   },
   "source": [
    "## Edge Detection\n",
    "\n",
    "- Canny edges from openCV"
   ]
  },
  {
   "cell_type": "code",
   "execution_count": null,
   "id": "18c37079-8418-4a9b-9d6c-3d6724fa90c9",
   "metadata": {
    "tags": []
   },
   "outputs": [],
   "source": []
  },
  {
   "cell_type": "markdown",
   "id": "fe661c9c-f652-4fe3-b2bb-ee7ccc63de6d",
   "metadata": {
    "tags": []
   },
   "source": [
    "## Drawing over detected edges"
   ]
  },
  {
   "cell_type": "markdown",
   "id": "6ba90894-4e88-4a09-87aa-a7c241527178",
   "metadata": {
    "tags": []
   },
   "source": []
  },
  {
   "cell_type": "markdown",
   "id": "77472944-041b-4a65-9c85-f12c7dcec936",
   "metadata": {
    "tags": []
   },
   "source": [
    "#### Running the code"
   ]
  },
  {
   "cell_type": "code",
   "execution_count": null,
   "id": "51075fda-0949-483f-8af9-772a4a5127b4",
   "metadata": {
    "tags": []
   },
   "outputs": [],
   "source": []
  },
  {
   "cell_type": "code",
   "execution_count": null,
   "id": "110530d0-7ad1-4359-8474-c3e7435162dd",
   "metadata": {},
   "outputs": [],
   "source": [
    "from edge_detection import imfilter, gaussian_kernel, np2img, detect_edges\n",
    "base = np.array(img)\n",
    "blackimg = np2img(np.zeros(base.shape))\n",
    "for key in ms.keys():\n",
    "    if key!= \"all\":\n",
    "        layer = ms[key]\n",
    "        edges = detect_edges(layer, 50)\n",
    "        Image.composite(img, blackimg, edges)\n",
    "        #display(np2img(edges))"
   ]
  },
  {
   "cell_type": "markdown",
   "id": "5d2b4835-3493-4234-a35d-285dc0679fcd",
   "metadata": {
    "tags": []
   },
   "source": [
    "## Segment objects based on detected lines and contours"
   ]
  },
  {
   "cell_type": "markdown",
   "id": "ec6bf146-ffa9-4831-a817-eb067cdd64d7",
   "metadata": {
    "tags": []
   },
   "source": []
  }
 ],
 "metadata": {
  "kernelspec": {
   "display_name": "Python 3 (ipykernel)",
   "language": "python",
   "name": "python3"
  },
  "language_info": {
   "codemirror_mode": {
    "name": "ipython",
    "version": 3
   },
   "file_extension": ".py",
   "mimetype": "text/x-python",
   "name": "python",
   "nbconvert_exporter": "python",
   "pygments_lexer": "ipython3",
   "version": "3.9.12"
  }
 },
 "nbformat": 4,
 "nbformat_minor": 5
}
